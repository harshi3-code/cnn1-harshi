{
  "nbformat": 4,
  "nbformat_minor": 0,
  "metadata": {
    "colab": {
      "provenance": [],
      "authorship_tag": "ABX9TyP2Zo13UelxBc9ILNnsRoDj",
      "include_colab_link": true
    },
    "kernelspec": {
      "name": "python3",
      "display_name": "Python 3"
    },
    "language_info": {
      "name": "python"
    }
  },
  "cells": [
    {
      "cell_type": "markdown",
      "metadata": {
        "id": "view-in-github",
        "colab_type": "text"
      },
      "source": [
        "<a href=\"https://colab.research.google.com/github/harshi3-code/cnn1-harshi/blob/main/ICP2cnn.ipynb\" target=\"_parent\"><img src=\"https://colab.research.google.com/assets/colab-badge.svg\" alt=\"Open In Colab\"/></a>"
      ]
    },
    {
      "cell_type": "code",
      "execution_count": null,
      "metadata": {
        "id": "6U5gz6rTGqHU"
      },
      "outputs": [],
      "source": []
    },
    {
      "cell_type": "markdown",
      "source": [
        "Harshitha Gontu\n",
        "700766967\n",
        "2024 Fall CS-5720: Neural Network & Deep Learning"
      ],
      "metadata": {
        "id": "yTH3sVVsJdzI"
      }
    },
    {
      "cell_type": "code",
      "source": [
        "class Employee:\n",
        "    # Class variable to count the number of Employees\n",
        "    employee_count = 0\n",
        "\n",
        "    def __init__(self, name, family, salary, department):\n",
        "        # Instance variables\n",
        "        self.name = name\n",
        "        self.family = family\n",
        "        self.salary = salary\n",
        "        self.department = department\n",
        "\n",
        "        # Increment the employee count when a new instance is created\n",
        "        Employee.employee_count += 1\n",
        "\n",
        "    @classmethod\n",
        "    def average_salary(cls, employees):\n",
        "        # Calculate average salary of given list of employees\n",
        "        if not employees:\n",
        "            return 0\n",
        "        total_salary = sum(employee.salary for employee in employees)\n",
        "        return total_salary / len(employees)\n",
        "\n",
        "    def display_employee(self):\n",
        "        # Method to display employee details\n",
        "        return (f\"Name: {self.name}, Family: {self.family}, Salary: {self.salary}, \"\n",
        "                f\"Department: {self.department}\")\n",
        "\n",
        "class FulltimeEmployee(Employee):\n",
        "    def __init__(self, name, family, salary, department, benefits):\n",
        "        # Initialize base class\n",
        "        super().__init__(name, family, salary, department)\n",
        "        self.benefits = benefits\n",
        "\n",
        "    def display_fulltime_employee(self):\n",
        "        # Method to display full-time employee details including benefits\n",
        "        return (f\"{super().display_employee()}, Benefits: {self.benefits}\")\n",
        "\n",
        "# Create instances of Employee\n",
        "emp1 = Employee(\"Geetha\", \"arav Family\", 52000, \"Engineering\")\n",
        "emp2 = Employee(\"Seetha\", \"kutty Family\", 62000, \"Marketing\")\n",
        "\n",
        "# Create instances of FulltimeEmployee\n",
        "ft_emp1 = FulltimeEmployee(\"Alita\", \"Johnson Family\", 72000, \"Finance\", \"Health Insurance\")\n",
        "ft_emp2 = FulltimeEmployee(\"Bob\", \"marvel Family\", 92000, \"IT\", \"Dental Insurance\")\n",
        "\n",
        "# List of all employees for average salary calculation\n",
        "employees = [emp1, emp2, ft_emp1, ft_emp2]\n",
        "\n",
        "# Display employee details and average salary\n",
        "print(emp1.display_employee())\n",
        "print(emp2.display_employee())\n",
        "print(ft_emp1.display_fulltime_employee())\n",
        "print(ft_emp2.display_fulltime_employee())\n",
        "\n",
        "# Calculate and display average salary\n",
        "avg_salary = Employee.average_salary(employees)\n",
        "print(f\"Average Salary: {avg_salary}\")\n",
        "\n",
        "# Display total number of employees\n",
        "print(f\"Total Number of Employees: {Employee.employee_count}\")\n"
      ],
      "metadata": {
        "colab": {
          "base_uri": "https://localhost:8080/"
        },
        "id": "1EonSQn8GrG5",
        "outputId": "6891ee30-1abc-4501-c0a4-b4db85c1848e"
      },
      "execution_count": 6,
      "outputs": [
        {
          "output_type": "stream",
          "name": "stdout",
          "text": [
            "Name: Geetha, Family: arav Family, Salary: 52000, Department: Engineering\n",
            "Name: Seetha, Family: kutty Family, Salary: 62000, Department: Marketing\n",
            "Name: Alita, Family: Johnson Family, Salary: 72000, Department: Finance, Benefits: Health Insurance\n",
            "Name: Bob, Family: marvel Family, Salary: 92000, Department: IT, Benefits: Dental Insurance\n",
            "Average Salary: 69500.0\n",
            "Total Number of Employees: 4\n"
          ]
        }
      ]
    },
    {
      "cell_type": "code",
      "source": [
        "class Employee:\n",
        "    # Class variable to count the number of employees\n",
        "    employee_count = 0\n",
        "\n",
        "    def __init__(self, name, family, salary, department):\n",
        "        # Instance variables\n",
        "        self.name = name\n",
        "        self.family = family\n",
        "        self.salary = salary\n",
        "        self.department = department\n",
        "\n",
        "        # Increment the employee count when a new instance is created\n",
        "        Employee.employee_count += 1\n",
        "\n",
        "    @classmethod\n",
        "    def average_salary(cls, employees):\n",
        "        \"\"\"Calculate the average salary of a list of employees.\"\"\"\n",
        "        if not employees:\n",
        "            return 0\n",
        "        total_salary = sum(employee.salary for employee in employees)\n",
        "        return total_salary / len(employees)\n",
        "\n",
        "    def display_employee(self):\n",
        "        \"\"\"Return a string representation of the employee's details.\"\"\"\n",
        "        return (f\"Name: {self.name}, Family: {self.family}, Salary: {self.salary}, \"\n",
        "                f\"Department: {self.department}\")\n",
        "\n",
        "class FulltimeEmployee(Employee):\n",
        "    def __init__(self, name, family, salary, department, benefits):\n",
        "        # Initialize the base class (Employee)\n",
        "        super().__init__(name, family, salary, department)\n",
        "        self.benefits = benefits\n",
        "\n",
        "    def display_fulltime_employee(self):\n",
        "        \"\"\"Return a string representation of the full-time employee's details including benefits.\"\"\"\n",
        "        return (f\"{super().display_employee()}, Benefits: {self.benefits}\")\n",
        "\n",
        "# Create instances of Employee\n",
        "emp1 = Employee(\"Joe\", \"Doe Family\", 65000, \"Engineering\")\n",
        "emp2 = Employee(\"Mith\", \"Smith Family\", 89000, \"Marketing\")\n",
        "\n",
        "# Create instances of FulltimeEmployee\n",
        "ft_emp1 = FulltimeEmployee(\"Johnson\", \"John Family\", 85000, \"Finance\", \"Health Insurance\")\n",
        "ft_emp2 = FulltimeEmployee(\"Brook\", \"Bro Family\", 85400, \"IT\", \"Dental Insurance\")\n",
        "\n",
        "# List of all employees for average salary calculation\n",
        "employees = [emp1, emp2, ft_emp1, ft_emp2]\n",
        "\n",
        "# Display employee details and average salary\n",
        "print(emp1.display_employee())\n",
        "print(emp2.display_employee())\n",
        "print(ft_emp1.display_fulltime_employee())\n",
        "print(ft_emp2.display_fulltime_employee())\n",
        "\n",
        "# Calculate and display average salary\n",
        "avg_salary = Employee.average_salary(employees)\n",
        "print(f\"Average Salary: {avg_salary}\")\n",
        "\n",
        "# Display total number of employees\n",
        "print(f\"Total Number of Employees: {Employee.employee_count}\")\n"
      ],
      "metadata": {
        "colab": {
          "base_uri": "https://localhost:8080/"
        },
        "id": "2jAiyV_5Iric",
        "outputId": "ceb08bf6-69e6-4e53-8309-45bd531c3d9b"
      },
      "execution_count": 8,
      "outputs": [
        {
          "output_type": "stream",
          "name": "stdout",
          "text": [
            "Name: Joe, Family: Doe Family, Salary: 65000, Department: Engineering\n",
            "Name: Mith, Family: Smith Family, Salary: 89000, Department: Marketing\n",
            "Name: Johnson, Family: John Family, Salary: 85000, Department: Finance, Benefits: Health Insurance\n",
            "Name: Brook, Family: Bro Family, Salary: 85400, Department: IT, Benefits: Dental Insurance\n",
            "Average Salary: 81100.0\n",
            "Total Number of Employees: 4\n"
          ]
        }
      ]
    },
    {
      "cell_type": "markdown",
      "source": [],
      "metadata": {
        "id": "snJ52-5CJZzR"
      }
    },
    {
      "cell_type": "markdown",
      "source": [],
      "metadata": {
        "id": "Lpb8ZdSGJbad"
      }
    },
    {
      "cell_type": "code",
      "source": [
        "import numpy as np\n",
        "\n",
        "# Step 1: Create a random vector of size 20 with values in the range 1-20\n",
        "vector = np.random.uniform(1, 20, 20)\n",
        "\n",
        "# Step 2: Reshape the vector to a 4x5 matrix\n",
        "matrix = vector.reshape(4, 5)\n",
        "\n",
        "# Step 3: Replace the maximum value in each row with 0\n",
        "# Find the indices of the maximum values in each row\n",
        "max_indices = np.argmax(matrix, axis=1)\n",
        "# Use broadcasting to set these maximum values to 0\n",
        "matrix[np.arange(matrix.shape[0]), max_indices] = 0\n",
        "\n",
        "# Print the resulting matrix\n",
        "print(\"Original matrix with max values replaced by 0:\")\n",
        "print(matrix)\n"
      ],
      "metadata": {
        "colab": {
          "base_uri": "https://localhost:8080/"
        },
        "id": "0Vt72453Hfru",
        "outputId": "7c168356-6f6e-41b0-b7b5-2d576ded1b61"
      },
      "execution_count": 7,
      "outputs": [
        {
          "output_type": "stream",
          "name": "stdout",
          "text": [
            "Original matrix with max values replaced by 0:\n",
            "[[ 4.87025576  0.         12.45880878 15.0790757   7.71167395]\n",
            " [18.12449714  0.          5.27784889 12.48427847 14.45778711]\n",
            " [13.10369031  9.64653409  3.20653264 13.40803688  0.        ]\n",
            " [14.8498511   0.          6.16825472 13.05816819  5.72004744]]\n"
          ]
        }
      ]
    }
  ]
}