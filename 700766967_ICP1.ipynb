{
  "nbformat": 4,
  "nbformat_minor": 0,
  "metadata": {
    "colab": {
      "provenance": [],
      "authorship_tag": "ABX9TyO8sxKe2zsGMCbxHcxLhrxr",
      "include_colab_link": true
    },
    "kernelspec": {
      "name": "python3",
      "display_name": "Python 3"
    },
    "language_info": {
      "name": "python"
    }
  },
  "cells": [
    {
      "cell_type": "markdown",
      "metadata": {
        "id": "view-in-github",
        "colab_type": "text"
      },
      "source": [
        "<a href=\"https://colab.research.google.com/github/harshi3-code/cnn1-harshi/blob/main/700766967_ICP1.ipynb\" target=\"_parent\"><img src=\"https://colab.research.google.com/assets/colab-badge.svg\" alt=\"Open In Colab\"/></a>"
      ]
    },
    {
      "cell_type": "markdown",
      "source": [
        "Gontu Harshitha\n",
        "700766967"
      ],
      "metadata": {
        "id": "9Fy9wn9xNrVZ"
      }
    },
    {
      "cell_type": "code",
      "source": [
        "def fullname(firstname, lastname):\n",
        "\n",
        "  return firstname+\" \"+ lastname\n",
        "def string_alternative(full_name):\n",
        "    return full_name[::2]\n",
        "def main():\n",
        "    firstname = input(\"First_name = \")\n",
        "    lastname = input(\"Last_name = \")\n",
        "    print(\"Full_name =\",fullname(firstname, lastname))\n",
        "    Str = fullname(firstname, lastname)\n",
        "    output = string_alternative(Str)\n",
        "    print(output)\n",
        "if __name__ == \"__main__\":\n",
        "    main()\n",
        "\n"
      ],
      "metadata": {
        "colab": {
          "base_uri": "https://localhost:8080/"
        },
        "id": "jZtCjX57OD7x",
        "outputId": "62f92a26-de3c-4642-e615-0bcf4d43065c"
      },
      "execution_count": 25,
      "outputs": [
        {
          "output_type": "stream",
          "name": "stdout",
          "text": [
            "First_name = Harshitha\n",
            "Last_name = Gontu\n",
            "Full_name = Harshitha Gontu\n",
            "HrhtaGnu\n"
          ]
        }
      ]
    },
    {
      "cell_type": "code",
      "source": [
        "def frequencyOfWords(sentence):\n",
        "    wordStore = {}\n",
        "    words = sentence.split()\n",
        "\n",
        "    for i in words:\n",
        "        wordStore[i] = wordStore.get(i, 0) + 1\n",
        "\n",
        "    return wordStore\n",
        "\n",
        "def file_processing(input_file_path, output_file_path):\n",
        "    with open(input_file_path, 'r') as infile, open(output_file_path, 'w') as outfile:\n",
        "\n",
        "        sentences = ' '.join(line.strip() for line in infile)\n",
        "\n",
        "        wordStore = frequencyOfWords(sentences)\n",
        "\n",
        "        outfile.write( sentences + \"\\n\" + \"\\n\")\n",
        "        outfile.write(\"Word_count:\" + \"\\n\" + \"\\n\")\n",
        "\n",
        "        for word, count in wordStore.items():\n",
        "            outfile.write(f\"{word}: {count}\" + \"\\n\")\n",
        "\n",
        "        outfile.write(\"\\n\")\n",
        "\n",
        "with open('input.txt', 'w') as f:\n",
        "    f.write('Python Course' + \"\\n\" + \"Deep Learning Course\")\n",
        "\n",
        "file_processing('input.txt', 'output.txt')\n",
        "\n",
        "import os\n",
        "\n",
        "with open('output.txt', 'r') as f:\n",
        "    print(f.read())\n",
        "\n",
        "from google.colab import files\n",
        "files.download('input.txt')\n",
        "files.download('output.txt')"
      ],
      "metadata": {
        "colab": {
          "base_uri": "https://localhost:8080/",
          "height": 191
        },
        "id": "CAvJ4pf8OPO0",
        "outputId": "81a5069d-a01a-4acc-f54f-0ef7848b3e40"
      },
      "execution_count": 26,
      "outputs": [
        {
          "output_type": "stream",
          "name": "stdout",
          "text": [
            "Python Course Deep Learning Course\n",
            "\n",
            "Word_count:\n",
            "\n",
            "Python: 1\n",
            "Course: 2\n",
            "Deep: 1\n",
            "Learning: 1\n",
            "\n",
            "\n"
          ]
        },
        {
          "output_type": "display_data",
          "data": {
            "text/plain": [
              "<IPython.core.display.Javascript object>"
            ],
            "application/javascript": [
              "\n",
              "    async function download(id, filename, size) {\n",
              "      if (!google.colab.kernel.accessAllowed) {\n",
              "        return;\n",
              "      }\n",
              "      const div = document.createElement('div');\n",
              "      const label = document.createElement('label');\n",
              "      label.textContent = `Downloading \"${filename}\": `;\n",
              "      div.appendChild(label);\n",
              "      const progress = document.createElement('progress');\n",
              "      progress.max = size;\n",
              "      div.appendChild(progress);\n",
              "      document.body.appendChild(div);\n",
              "\n",
              "      const buffers = [];\n",
              "      let downloaded = 0;\n",
              "\n",
              "      const channel = await google.colab.kernel.comms.open(id);\n",
              "      // Send a message to notify the kernel that we're ready.\n",
              "      channel.send({})\n",
              "\n",
              "      for await (const message of channel.messages) {\n",
              "        // Send a message to notify the kernel that we're ready.\n",
              "        channel.send({})\n",
              "        if (message.buffers) {\n",
              "          for (const buffer of message.buffers) {\n",
              "            buffers.push(buffer);\n",
              "            downloaded += buffer.byteLength;\n",
              "            progress.value = downloaded;\n",
              "          }\n",
              "        }\n",
              "      }\n",
              "      const blob = new Blob(buffers, {type: 'application/binary'});\n",
              "      const a = document.createElement('a');\n",
              "      a.href = window.URL.createObjectURL(blob);\n",
              "      a.download = filename;\n",
              "      div.appendChild(a);\n",
              "      a.click();\n",
              "      div.remove();\n",
              "    }\n",
              "  "
            ]
          },
          "metadata": {}
        },
        {
          "output_type": "display_data",
          "data": {
            "text/plain": [
              "<IPython.core.display.Javascript object>"
            ],
            "application/javascript": [
              "download(\"download_93fb468c-df88-4655-a6fc-80047321beb4\", \"input.txt\", 34)"
            ]
          },
          "metadata": {}
        },
        {
          "output_type": "display_data",
          "data": {
            "text/plain": [
              "<IPython.core.display.Javascript object>"
            ],
            "application/javascript": [
              "\n",
              "    async function download(id, filename, size) {\n",
              "      if (!google.colab.kernel.accessAllowed) {\n",
              "        return;\n",
              "      }\n",
              "      const div = document.createElement('div');\n",
              "      const label = document.createElement('label');\n",
              "      label.textContent = `Downloading \"${filename}\": `;\n",
              "      div.appendChild(label);\n",
              "      const progress = document.createElement('progress');\n",
              "      progress.max = size;\n",
              "      div.appendChild(progress);\n",
              "      document.body.appendChild(div);\n",
              "\n",
              "      const buffers = [];\n",
              "      let downloaded = 0;\n",
              "\n",
              "      const channel = await google.colab.kernel.comms.open(id);\n",
              "      // Send a message to notify the kernel that we're ready.\n",
              "      channel.send({})\n",
              "\n",
              "      for await (const message of channel.messages) {\n",
              "        // Send a message to notify the kernel that we're ready.\n",
              "        channel.send({})\n",
              "        if (message.buffers) {\n",
              "          for (const buffer of message.buffers) {\n",
              "            buffers.push(buffer);\n",
              "            downloaded += buffer.byteLength;\n",
              "            progress.value = downloaded;\n",
              "          }\n",
              "        }\n",
              "      }\n",
              "      const blob = new Blob(buffers, {type: 'application/binary'});\n",
              "      const a = document.createElement('a');\n",
              "      a.href = window.URL.createObjectURL(blob);\n",
              "      a.download = filename;\n",
              "      div.appendChild(a);\n",
              "      a.click();\n",
              "      div.remove();\n",
              "    }\n",
              "  "
            ]
          },
          "metadata": {}
        },
        {
          "output_type": "display_data",
          "data": {
            "text/plain": [
              "<IPython.core.display.Javascript object>"
            ],
            "application/javascript": [
              "download(\"download_4c569a75-e9c1-43b6-b1c1-e362d4df46b7\", \"output.txt\", 90)"
            ]
          },
          "metadata": {}
        }
      ]
    },
    {
      "cell_type": "code",
      "source": [
        "def convert_heights_nested(heights_inches):\n",
        "    heights_cm = []\n",
        "    for height in heights_inches:\n",
        "        height_cm = height * 2.54\n",
        "        heights_cm.append(round(height_cm, 2))\n",
        "    return heights_cm\n",
        "\n",
        "heights_inches = [150, 155, 145, 148]\n",
        "heights_cm = convert_heights_nested(heights_inches)\n",
        "print(heights_cm)"
      ],
      "metadata": {
        "colab": {
          "base_uri": "https://localhost:8080/"
        },
        "id": "fN3ue9_NOWZ7",
        "outputId": "e6d58f5c-4b81-4339-b82a-8ed64df026d1"
      },
      "execution_count": 27,
      "outputs": [
        {
          "output_type": "stream",
          "name": "stdout",
          "text": [
            "[381.0, 393.7, 368.3, 375.92]\n"
          ]
        }
      ]
    },
    {
      "cell_type": "code",
      "source": [
        "def convert_heights_to_cm_list_comp(heights_inches):\n",
        "    return [height * 2.54 for height in heights_inches]\n",
        "\n",
        "L1 = [150, 155, 145, 148]\n",
        "heights_cm_list_comp = convert_heights_to_cm_list_comp(L1)\n",
        "print(heights_cm_list_comp)"
      ],
      "metadata": {
        "colab": {
          "base_uri": "https://localhost:8080/"
        },
        "id": "yxUcGBh7Odlg",
        "outputId": "995f0286-8f1c-4b4b-8f5e-5db202c33e29"
      },
      "execution_count": 18,
      "outputs": [
        {
          "output_type": "stream",
          "name": "stdout",
          "text": [
            "[381.0, 393.7, 368.3, 375.92]\n"
          ]
        }
      ]
    }
  ]
}